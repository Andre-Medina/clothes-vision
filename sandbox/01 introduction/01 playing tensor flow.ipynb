{
 "cells": [
  {
   "cell_type": "code",
   "execution_count": 1,
   "metadata": {},
   "outputs": [
    {
     "name": "stderr",
     "output_type": "stream",
     "text": [
      "2023-06-24 10:45:42.493716: I tensorflow/core/platform/cpu_feature_guard.cc:182] This TensorFlow binary is optimized to use available CPU instructions in performance-critical operations.\n",
      "To enable the following instructions: AVX2 FMA, in other operations, rebuild TensorFlow with the appropriate compiler flags.\n"
     ]
    },
    {
     "name": "stdout",
     "output_type": "stream",
     "text": [
      "(60000, 28, 28)\n",
      "(60000,)\n",
      "(10000, 28, 28)\n",
      "(10000,)\n",
      "uint8\n",
      "uint8\n"
     ]
    }
   ],
   "source": [
    "# Import TensorFlow and Keras\n",
    "import tensorflow as tf\n",
    "from tensorflow import keras\n",
    "import numpy as np\n",
    "\n",
    "# Load the MNIST dataset\n",
    "(x_train_full, y_train_full), (x_test, y_test) = keras.datasets.mnist.load_data()\n",
    "\n",
    "# Print the shape and type of the data\n",
    "print(x_train_full.shape) # (60000, 28, 28)\n",
    "print(y_train_full.shape) # (60000,)\n",
    "print(x_test.shape) # (10000, 28, 28)\n",
    "print(y_test.shape) # (10000,)\n",
    "print(x_train_full.dtype) # uint8\n",
    "print(y_train_full.dtype) # uint8\n"
   ]
  },
  {
   "cell_type": "code",
   "execution_count": 2,
   "metadata": {},
   "outputs": [
    {
     "name": "stdout",
     "output_type": "stream",
     "text": [
      "(60, 28, 28)\n",
      "(60,)\n"
     ]
    }
   ],
   "source": [
    "# Get the length of the arrays\n",
    "n = len(x_train_full)\n",
    "\n",
    "# Get 10% of the length as the sample size\n",
    "k = int(n * 0.001)\n",
    "\n",
    "# Generate k random indices without replacement\n",
    "idx = np.random.choice(n, size=k, replace=False)\n",
    "\n",
    "# Select the elements from x_train and y_train using the indices\n",
    "x_train = x_train_full[idx]\n",
    "y_train = y_train_full[idx]\n",
    "\n",
    "print(x_train.shape) # (60000, 28, 28)\n",
    "print(y_train.shape) # (60000,)"
   ]
  },
  {
   "cell_type": "code",
   "execution_count": 3,
   "metadata": {},
   "outputs": [],
   "source": [
    "\n",
    "# Normalize the data\n",
    "x_train = x_train / 255.0\n",
    "x_test = x_test / 255.0\n",
    "\n",
    "# Reshape the data\n",
    "x_train = x_train.reshape(-1, 28, 28, 1)\n",
    "x_test = x_test.reshape(-1, 28, 28, 1)"
   ]
  },
  {
   "cell_type": "code",
   "execution_count": 30,
   "metadata": {},
   "outputs": [],
   "source": [
    "\n",
    "# Create a model\n",
    "model = keras.Sequential([\n",
    "  keras.layers.Conv2D(32, 3, activation='relu', input_shape=(28, 28, 1)),\n",
    "  keras.layers.MaxPooling2D(2),\n",
    "  keras.layers.Conv2D(64, 3, activation='relu'),\n",
    "  keras.layers.MaxPooling2D(2),\n",
    "  keras.layers.Flatten(),\n",
    "  keras.layers.Dense(128, activation='relu'),\n",
    "  keras.layers.Dense(10, activation='softmax')\n",
    "])\n"
   ]
  },
  {
   "cell_type": "code",
   "execution_count": 31,
   "metadata": {},
   "outputs": [],
   "source": [
    "# Compile the model\n",
    "model.compile(optimizer='adam', loss='sparse_categorical_crossentropy', metrics=['accuracy'])\n"
   ]
  },
  {
   "cell_type": "code",
   "execution_count": 32,
   "metadata": {},
   "outputs": [
    {
     "name": "stdout",
     "output_type": "stream",
     "text": [
      "Epoch 1/10\n",
      "10/10 [==============================] - 1s 16ms/step - loss: 2.2799 - accuracy: 0.1833\n",
      "Epoch 2/10\n",
      "10/10 [==============================] - 0s 14ms/step - loss: 1.9657 - accuracy: 0.3833\n",
      "Epoch 3/10\n",
      "10/10 [==============================] - 0s 14ms/step - loss: 1.5472 - accuracy: 0.5333\n",
      "Epoch 4/10\n",
      "10/10 [==============================] - 0s 14ms/step - loss: 0.9812 - accuracy: 0.7000\n",
      "Epoch 5/10\n",
      "10/10 [==============================] - 0s 13ms/step - loss: 0.5914 - accuracy: 0.9000\n",
      "Epoch 6/10\n",
      "10/10 [==============================] - 0s 13ms/step - loss: 0.3152 - accuracy: 0.9167\n",
      "Epoch 7/10\n",
      "10/10 [==============================] - 0s 15ms/step - loss: 0.1476 - accuracy: 0.9667\n",
      "Epoch 8/10\n",
      "10/10 [==============================] - 0s 15ms/step - loss: 0.0676 - accuracy: 1.0000\n",
      "Epoch 9/10\n",
      "10/10 [==============================] - 0s 17ms/step - loss: 0.0271 - accuracy: 1.0000\n",
      "Epoch 10/10\n",
      "10/10 [==============================] - 0s 18ms/step - loss: 0.0149 - accuracy: 1.0000\n"
     ]
    },
    {
     "data": {
      "text/plain": [
       "<keras.callbacks.History at 0x7fbcd5dc41f0>"
      ]
     },
     "execution_count": 32,
     "metadata": {},
     "output_type": "execute_result"
    }
   ],
   "source": [
    "model.fit(x_train, y_train, batch_size = 6, epochs=10)\n"
   ]
  },
  {
   "cell_type": "code",
   "execution_count": 33,
   "metadata": {},
   "outputs": [
    {
     "name": "stdout",
     "output_type": "stream",
     "text": [
      "313/313 [==============================] - 2s 6ms/step - loss: 0.7904 - accuracy: 0.7594\n",
      "1/1 [==============================] - 0s 186ms/step\n",
      "The predicted class is 7\n"
     ]
    }
   ],
   "source": [
    "import math \n",
    "\n",
    "\n",
    "# Evaluate the model\n",
    "model.evaluate(x_test, y_test)\n",
    "\n",
    "# Make predictions\n",
    "import numpy as np\n",
    "\n",
    "# Select a sample image\n",
    "img = x_test[0]\n",
    "\n",
    "# Add a batch dimension\n",
    "img = np.expand_dims(img, axis=0)\n",
    "\n",
    "# Generate probabilities for each class\n",
    "probs = model.predict(img)\n",
    "\n",
    "# Get the predicted class\n",
    "pred = np.argmax(probs)\n",
    "\n",
    "# Print the result\n",
    "print(f'The predicted class is {pred}')\n"
   ]
  },
  {
   "cell_type": "code",
   "execution_count": 38,
   "metadata": {},
   "outputs": [
    {
     "name": "stdout",
     "output_type": "stream",
     "text": [
      "1/1 [==============================] - 0s 23ms/step\n",
      "9\n",
      "1/1 [==============================] - 0s 40ms/step\n",
      "2\n",
      "1/1 [==============================] - 0s 37ms/step\n",
      "9\n",
      "1/1 [==============================] - 0s 36ms/step\n",
      "5\n"
     ]
    },
    {
     "data": {
      "image/png": "[encoded data removed]",
      "text/plain": [
       "<Figure size 432x288 with 4 Axes>"
      ]
     },
     "metadata": {},
     "output_type": "display_data"
    }
   ],
   "source": [
    "# Import matplotlib\n",
    "import matplotlib.pyplot as plt\n",
    "\n",
    "# Create a 4x4 grid of subplots\n",
    "fig, axes = plt.subplots(1, 4)\n",
    "\n",
    "# Set the colormap to grayscale\n",
    "plt.gray()\n",
    "\n",
    "examples = np.random.choice(range(len(x_test)), size=20, replace=False)\n",
    "\n",
    "examples = x_test[examples]\n",
    "\n",
    "# Loop over the subplots and show an image\n",
    "for i, ax in enumerate(axes.flat):\n",
    "  \n",
    "  # Generate probabilities for each class\n",
    "  print(np.argmax(model.predict(np.expand_dims(examples[i], axis=0))))\n",
    "  \n",
    "  # Select an image\n",
    "  img = examples[i]\n",
    "\n",
    "  # Show the image on the subplot\n",
    "  ax.imshow(img)\n",
    "\n",
    "  # Remove the axes ticks\n",
    "  ax.set_xticks([])\n",
    "  ax.set_yticks([])\n",
    "\n",
    "# Display the figure\n",
    "plt.show()\n",
    "\n"
   ]
  },
  {
   "cell_type": "code",
   "execution_count": 16,
   "metadata": {},
   "outputs": [
    {
     "data": {
      "text/plain": [
       "(array([ 6., 10.,  5.,  1.,  3.,  6.,  4.,  8., 10.,  7.]),\n",
       " array([0. , 0.9, 1.8, 2.7, 3.6, 4.5, 5.4, 6.3, 7.2, 8.1, 9. ]),\n",
       " <BarContainer object of 10 artists>)"
      ]
     },
     "execution_count": 16,
     "metadata": {},
     "output_type": "execute_result"
    },
    {
     "data": {
      "image/png": "[encoded data removed]",
      "text/plain": [
       "<Figure size 432x288 with 1 Axes>"
      ]
     },
     "metadata": {
      "needs_background": "light"
     },
     "output_type": "display_data"
    }
   ],
   "source": [
    "plt.hist(y_train)"
   ]
  },
  {
   "cell_type": "code",
   "execution_count": 39,
   "metadata": {},
   "outputs": [
    {
     "name": "stdout",
     "output_type": "stream",
     "text": [
      "Model: \"sequential_1\"\n",
      "_________________________________________________________________\n",
      " Layer (type)                Output Shape              Param #   \n",
      "=================================================================\n",
      " conv2d_2 (Conv2D)           (None, 24, 24, 32)        832       \n",
      "                                                                 \n",
      " max_pooling2d_2 (MaxPooling  (None, 12, 12, 32)       0         \n",
      " 2D)                                                             \n",
      "                                                                 \n",
      " conv2d_3 (Conv2D)           (None, 10, 10, 64)        18496     \n",
      "                                                                 \n",
      " max_pooling2d_3 (MaxPooling  (None, 5, 5, 64)         0         \n",
      " 2D)                                                             \n",
      "                                                                 \n",
      " flatten_1 (Flatten)         (None, 1600)              0         \n",
      "                                                                 \n",
      " dense_2 (Dense)             (None, 128)               204928    \n",
      "                                                                 \n",
      " dense_3 (Dense)             (None, 10)                1290      \n",
      "                                                                 \n",
      "=================================================================\n",
      "Total params: 225,546\n",
      "Trainable params: 225,546\n",
      "Non-trainable params: 0\n",
      "_________________________________________________________________\n"
     ]
    }
   ],
   "source": [
    "model.summary()"
   ]
  }
 ],
 "metadata": {
  "kernelspec": {
   "display_name": "Python 3",
   "language": "python",
   "name": "python3"
  },
  "language_info": {
   "codemirror_mode": {
    "name": "ipython",
    "version": 3
   },
   "file_extension": ".py",
   "mimetype": "text/x-python",
   "name": "python",
   "nbconvert_exporter": "python",
   "pygments_lexer": "ipython3",
   "version": "3.8.10"
  },
  "orig_nbformat": 4
 },
 "nbformat": 4,
 "nbformat_minor": 2
}
