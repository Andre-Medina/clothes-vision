{
 "cells": [
  {
   "cell_type": "code",
   "execution_count": null,
   "metadata": {},
   "outputs": [],
   "source": [
    "# Import TensorFlow and Keras\n",
    "import tensorflow as tf\n",
    "from tensorflow import keras\n",
    "\n",
    "# Load the MNIST dataset\n",
    "(x_train, y_train), (x_test, y_test) = keras.datasets.mnist.load_data()\n",
    "\n",
    "# Print the shape and type of the data\n",
    "print(x_train.shape) # (60000, 28, 28)\n",
    "print(y_train.shape) # (60000,)\n",
    "print(x_test.shape) # (10000, 28, 28)\n",
    "print(y_test.shape) # (10000,)\n",
    "print(x_train.dtype) # uint8\n",
    "print(y_train.dtype) # uint8\n"
   ]
  },
  {
   "cell_type": "code",
   "execution_count": null,
   "metadata": {},
   "outputs": [],
   "source": [
    "\n",
    "# Normalize the data\n",
    "x_train = x_train / 255.0\n",
    "x_test = x_test / 255.0\n",
    "\n",
    "# Reshape the data\n",
    "x_train = x_train.reshape(-1, 28, 28, 1)\n",
    "x_test = x_test.reshape(-1, 28, 28, 1)"
   ]
  },
  {
   "cell_type": "code",
   "execution_count": null,
   "metadata": {},
   "outputs": [],
   "source": [
    "\n",
    "# Create a model\n",
    "model = keras.Sequential([\n",
    "  keras.layers.Conv2D(32, 3, activation='relu', input_shape=(28, 28, 1)),\n",
    "  keras.layers.MaxPooling2D(2),\n",
    "  keras.layers.Conv2D(64, 3, activation='relu'),\n",
    "  keras.layers.MaxPooling2D(2),\n",
    "  keras.layers.Flatten(),\n",
    "  keras.layers.Dense(128, activation='relu'),\n",
    "  keras.layers.Dense(10, activation='softmax')\n",
    "])\n"
   ]
  },
  {
   "cell_type": "code",
   "execution_count": null,
   "metadata": {},
   "outputs": [],
   "source": [
    "# Compile the model\n",
    "model.compile(optimizer='adam', loss='sparse_categorical_crossentropy', metrics=['accuracy'])\n"
   ]
  },
  {
   "cell_type": "code",
   "execution_count": null,
   "metadata": {},
   "outputs": [],
   "source": [
    "model.fit(x_train, y_train, epochs=10)\n"
   ]
  },
  {
   "cell_type": "code",
   "execution_count": null,
   "metadata": {},
   "outputs": [],
   "source": [
    "import math \n",
    "\n",
    "\n",
    "# Evaluate the model\n",
    "model.evaluate(x_test, y_test)\n",
    "\n",
    "# Make predictions\n",
    "import numpy as np\n",
    "\n",
    "# Select a sample image\n",
    "img = x_test[0]\n",
    "\n",
    "# Add a batch dimension\n",
    "img = np.expand_dims(img, axis=0)\n",
    "\n",
    "# Generate probabilities for each class\n",
    "probs = model.predict(img)\n",
    "\n",
    "# Get the predicted class\n",
    "pred = np.argmax(probs)\n",
    "\n",
    "# Print the result\n",
    "print(f'The predicted class is {pred}')\n",
    "\n",
    "for y in img:\n",
    "    print('\\n' + \"\".join([math.floor(x) for x in y]))"
   ]
  },
  {
   "cell_type": "code",
   "execution_count": null,
   "metadata": {},
   "outputs": [],
   "source": [
    "# Import matplotlib\n",
    "import matplotlib.pyplot as plt\n",
    "\n",
    "# Create a 4x4 grid of subplots\n",
    "fig, axes = plt.subplots(1, 4)\n",
    "\n",
    "# Set the colormap to grayscale\n",
    "plt.gray()\n",
    "\n",
    "examples = np.random.choice(range(len(x_train)), size=20, replace=False)\n",
    "\n",
    "examples = x_train[examples]\n",
    "\n",
    "# Loop over the subplots and show an image\n",
    "for i, ax in enumerate(axes.flat):\n",
    "  \n",
    "  # Generate probabilities for each class\n",
    "  print(np.argmax(model.predict(np.expand_dims(examples[i], axis=0))))\n",
    "  \n",
    "  # Select an image\n",
    "  img = examples[i]\n",
    "\n",
    "  # Show the image on the subplot\n",
    "  ax.imshow(img)\n",
    "\n",
    "  # Remove the axes ticks\n",
    "  ax.set_xticks([])\n",
    "  ax.set_yticks([])\n",
    "\n",
    "# Display the figure\n",
    "plt.show()\n",
    "\n"
   ]
  },
  {
   "cell_type": "code",
   "execution_count": null,
   "metadata": {},
   "outputs": [],
   "source": []
  }
 ],
 "metadata": {
  "kernelspec": {
   "display_name": "Python 3",
   "language": "python",
   "name": "python3"
  },
  "language_info": {
   "codemirror_mode": {
    "name": "ipython",
    "version": 3
   },
   "file_extension": ".py",
   "mimetype": "text/x-python",
   "name": "python",
   "nbconvert_exporter": "python",
   "pygments_lexer": "ipython3",
   "version": "3.8.10"
  },
  "orig_nbformat": 4
 },
 "nbformat": 4,
 "nbformat_minor": 2
}
